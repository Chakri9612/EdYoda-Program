{
 "cells": [
  {
   "cell_type": "markdown",
   "id": "0837b101",
   "metadata": {},
   "source": [
    "# Q1. Write a program to find all pairs of an integer array whose sum is equal to a given number?"
   ]
  },
  {
   "cell_type": "code",
   "execution_count": 4,
   "id": "b2c0e3f0",
   "metadata": {},
   "outputs": [
    {
     "name": "stdout",
     "output_type": "stream",
     "text": [
      "Enter the target sum: 12\n",
      "Pairs with sum equal to 12 :\n",
      "[[2, 10], [3, 9], [4, 8], [5, 7]]\n"
     ]
    }
   ],
   "source": [
    "def find_pairs(array, target):\n",
    "    pairs = []\n",
    "    for i in range(len(array)):\n",
    "        for j in range(i + 1, len(array)):\n",
    "            if array[i] + array[j] == target:\n",
    "                pairs.append([array[i], array[j]])\n",
    "    return pairs\n",
    "\n",
    "# Example usage\n",
    "arr = [1,2,3,4,5,6,7,8,9,10]\n",
    "sum_target = int(input(\"Enter the target sum: \"))\n",
    "\n",
    "result = find_pairs(arr, sum_target)\n",
    "print(\"Pairs with sum equal to\", sum_target, \":\")\n",
    "print(result)"
   ]
  },
  {
   "cell_type": "markdown",
   "id": "650b5b1d",
   "metadata": {},
   "source": [
    "# Q2. Write a program to reverse an array in place? In place means you cannot create a new array. You have to update the original array."
   ]
  },
  {
   "cell_type": "code",
   "execution_count": 8,
   "id": "b15fc2e1",
   "metadata": {},
   "outputs": [
    {
     "name": "stdout",
     "output_type": "stream",
     "text": [
      "Enter elements of the array (space-separated): 1 2 3 4 5\n",
      "Reversed array: [5, 4, 3, 2, 1]\n"
     ]
    }
   ],
   "source": [
    "def reverse_array(array):\n",
    "    start = 0\n",
    "    end = len(array) - 1\n",
    "    \n",
    "    while start < end:\n",
    "        array[start], array[end] = array[end], array[start]\n",
    "        start += 1\n",
    "        end -= 1\n",
    "\n",
    "# Take array input from the user\n",
    "input_string = input(\"Enter elements of the array (space-separated): \")\n",
    "arr = input_string.split()\n",
    "\n",
    "# Convert the input elements from string to integers\n",
    "arr = [int(num) for num in arr]\n",
    "\n",
    "# Reverse the array\n",
    "reverse_array(arr)\n",
    "\n",
    "# Print the reversed array\n",
    "print(\"Reversed array:\", arr)"
   ]
  },
  {
   "cell_type": "markdown",
   "id": "ac6971ee",
   "metadata": {},
   "source": [
    "# Q3. Write a program to check if two strings are a rotation of each other?"
   ]
  },
  {
   "cell_type": "code",
   "execution_count": 16,
   "id": "1edda86b",
   "metadata": {},
   "outputs": [
    {
     "name": "stdout",
     "output_type": "stream",
     "text": [
      "Enter the first string: abc\n",
      "Enter the second string: abc\n",
      "The two strings are rotations of each other.\n"
     ]
    }
   ],
   "source": [
    "def are_rotations(string1, string2):\n",
    "    if len(string1) != len(string2):\n",
    "        return False\n",
    "    \n",
    "    stack = []\n",
    "    rotations = 0\n",
    "    \n",
    "    for char in string1:\n",
    "        stack.append(char)\n",
    "    \n",
    "    for _ in range(len(string2)):\n",
    "        char = stack.pop()\n",
    "        stack.insert(0, char)\n",
    "        rotations += 1\n",
    "        \n",
    "        if ''.join(stack) == string2:\n",
    "            return True\n",
    "        \n",
    "    return False\n",
    "\n",
    "# Example usage\n",
    "str1 = input(\"Enter the first string: \")\n",
    "str2 = input(\"Enter the second string: \")\n",
    "\n",
    "if are_rotations(str1, str2):\n",
    "    print(\"The two strings are rotations of each other.\")\n",
    "else:\n",
    "    print(\"The two strings are not rotations of each other.\")"
   ]
  },
  {
   "cell_type": "markdown",
   "id": "4f3f4c0b",
   "metadata": {},
   "source": [
    "# Q4. Write a program to print the first non-repeated character from a string?"
   ]
  },
  {
   "cell_type": "code",
   "execution_count": 18,
   "id": "bbe544f3",
   "metadata": {},
   "outputs": [
    {
     "name": "stdout",
     "output_type": "stream",
     "text": [
      "Enter a string: chakri\n",
      "c\n"
     ]
    }
   ],
   "source": [
    "def find_first_non_repeated_char(string):\n",
    "    char_count = {}\n",
    "    \n",
    "    for char in string:\n",
    "        char_count[char] = char_count.get(char, 0) + 1\n",
    "    \n",
    "    for char in string:\n",
    "        if char_count[char] == 1:\n",
    "            return char\n",
    "    \n",
    "    return None\n",
    "\n",
    "# Ask for input from the user\n",
    "input_string = input(\"Enter a string: \")\n",
    "result = find_first_non_repeated_char(input_string)\n",
    "print(result)\n"
   ]
  },
  {
   "cell_type": "markdown",
   "id": "0ff40653",
   "metadata": {},
   "source": [
    "# Q5. Read about the Tower of Hanoi algorithm. Write a program to implement it?"
   ]
  },
  {
   "cell_type": "code",
   "execution_count": 19,
   "id": "77a1fc8f",
   "metadata": {},
   "outputs": [
    {
     "name": "stdout",
     "output_type": "stream",
     "text": [
      "Enter the number of disks: 3\n",
      "Move disk 1 from A to C\n",
      "Move disk 2 from A to B\n",
      "Move disk 1 from C to B\n",
      "Move disk 3 from A to C\n",
      "Move disk 1 from B to A\n",
      "Move disk 2 from B to C\n",
      "Move disk 1 from A to C\n"
     ]
    }
   ],
   "source": [
    "def tower_of_hanoi(n, source, destination, auxiliary):\n",
    "    if n == 1:\n",
    "        print(f\"Move disk 1 from {source} to {destination}\")\n",
    "        return\n",
    "    \n",
    "    tower_of_hanoi(n - 1, source, auxiliary, destination)\n",
    "    \n",
    "    print(f\"Move disk {n} from {source} to {destination}\")\n",
    "    \n",
    "    tower_of_hanoi(n - 1, auxiliary, destination, source)\n",
    "\n",
    "# Example usage\n",
    "num_disks = int(input(\"Enter the number of disks: \"))\n",
    "\n",
    "tower_of_hanoi(num_disks, 'A', 'C', 'B')"
   ]
  },
  {
   "cell_type": "markdown",
   "id": "613ca1be",
   "metadata": {},
   "source": [
    "# Q6. Read about infix, prefix, and postfix expressions. Write a program to convert postfix to prefix expression?"
   ]
  },
  {
   "cell_type": "code",
   "execution_count": 29,
   "id": "310351cb",
   "metadata": {},
   "outputs": [
    {
     "name": "stdout",
     "output_type": "stream",
     "text": [
      "Enter a postfix expression: 1234-\n",
      "Prefix expression: -34\n"
     ]
    }
   ],
   "source": [
    "def postfix_to_prefix(expression):\n",
    "    stack = []\n",
    "    \n",
    "    for token in expression:\n",
    "        if token.isalnum():\n",
    "            stack.append(token)\n",
    "        else:\n",
    "            num2 = stack.pop()\n",
    "            num1 = stack.pop()\n",
    "            stack.append(token + num1 + num2)\n",
    "    \n",
    "    return stack.pop()\n",
    "\n",
    "# Example usage\n",
    "postfix_expression = input(\"Enter a postfix expression: \")\n",
    "prefix_expression = postfix_to_prefix(postfix_expression)\n",
    "\n",
    "print(\"Prefix expression:\", prefix_expression)"
   ]
  },
  {
   "cell_type": "markdown",
   "id": "71b233c6",
   "metadata": {},
   "source": [
    "# Q7. Write a program to convert prefix expression to infix expression?"
   ]
  },
  {
   "cell_type": "code",
   "execution_count": 34,
   "id": "3a29606f",
   "metadata": {},
   "outputs": [
    {
     "name": "stdout",
     "output_type": "stream",
     "text": [
      "Enter a prefix expression: +12\n",
      "Infix expression: (1+2)\n"
     ]
    }
   ],
   "source": [
    "def is_operator(char):\n",
    "    operators = ['+', '-', '*', '/']\n",
    "    return char in operators\n",
    "\n",
    "def prefix_to_infix(expression):\n",
    "    stack = []\n",
    "\n",
    "    for char in reversed(expression):\n",
    "        if char.isalnum():\n",
    "            stack.append(char)\n",
    "        elif is_operator(char):\n",
    "            num1 = stack.pop()\n",
    "            num2 = stack.pop()\n",
    "            stack.append(f\"({num1}{char}{num2})\")\n",
    "\n",
    "    return stack.pop()\n",
    "\n",
    "# Example usage\n",
    "prefix_exp = input(\"Enter a prefix expression: \")\n",
    "infix_exp = prefix_to_infix(prefix_exp)\n",
    "print(\"Infix expression:\", infix_exp)"
   ]
  },
  {
   "cell_type": "markdown",
   "id": "62506bbc",
   "metadata": {},
   "source": [
    "# Q8. Write a program to check if all the brackets are closed in a given code snippet?"
   ]
  },
  {
   "cell_type": "code",
   "execution_count": 40,
   "id": "ec5816e3",
   "metadata": {},
   "outputs": [
    {
     "name": "stdout",
     "output_type": "stream",
     "text": [
      "Enter a code snippet: ([{}{)}]\n",
      "Brackets are not properly closed.\n"
     ]
    }
   ],
   "source": [
    "def check_brackets(code):\n",
    "    stack = []\n",
    "\n",
    "    for char in code:\n",
    "        if char in \"([{\":\n",
    "            stack.append(char)\n",
    "        elif char in \")]}\":\n",
    "            if len(stack) == 0:\n",
    "                return False\n",
    "            top = stack.pop()\n",
    "            if not is_matching(top, char):\n",
    "                return False\n",
    "\n",
    "    return len(stack) == 0\n",
    "\n",
    "def is_matching(opening, closing):\n",
    "    return (opening == '(' and closing == ')') or \\\n",
    "           (opening == '[' and closing == ']') or \\\n",
    "           (opening == '{' and closing == '}')\n",
    "\n",
    "# Example usage\n",
    "code_snippet = input(\"Enter a code snippet: \")\n",
    "if check_brackets(code_snippet):\n",
    "    print(\"All brackets are properly closed.\")\n",
    "else:\n",
    "    print(\"Brackets are not properly closed.\")"
   ]
  },
  {
   "cell_type": "markdown",
   "id": "5de82746",
   "metadata": {},
   "source": [
    "# Q9. Write a program to reverse a stack?"
   ]
  },
  {
   "cell_type": "code",
   "execution_count": 46,
   "id": "2d577acf",
   "metadata": {},
   "outputs": [
    {
     "name": "stdout",
     "output_type": "stream",
     "text": [
      "Original Stack: [1, 2, 3]\n",
      "Reversed Stack: [3, 2, 1]\n"
     ]
    }
   ],
   "source": [
    "class Stack:\n",
    "    def __init__(self):\n",
    "        self.items = []\n",
    "\n",
    "    def is_empty(self):\n",
    "        return len(self.items) == 0\n",
    "\n",
    "    def push(self, item):\n",
    "        self.items.append(item)\n",
    "\n",
    "    def pop(self):\n",
    "        if not self.is_empty():\n",
    "            return self.items.pop()\n",
    "\n",
    "    def size(self):\n",
    "        return len(self.items)\n",
    "\n",
    "def reverse_stack(stack):\n",
    "    if stack.is_empty():\n",
    "        return\n",
    "\n",
    "    temp = stack.pop()\n",
    "    reverse_stack(stack)\n",
    "    insert_at_bottom(stack, temp)\n",
    "\n",
    "def insert_at_bottom(stack, item):\n",
    "    if stack.is_empty():\n",
    "        stack.push(item)\n",
    "        return\n",
    "\n",
    "    temp = stack.pop()\n",
    "    insert_at_bottom(stack, item)\n",
    "    stack.push(temp)\n",
    "\n",
    "\n",
    "# Example usage\n",
    "stack = Stack()\n",
    "stack.push(1)\n",
    "stack.push(2)\n",
    "stack.push(3)\n",
    "stack.push(4)\n",
    "stack.pop()\n",
    "\n",
    "print(\"Original Stack:\", stack.items)\n",
    "\n",
    "reverse_stack(stack)\n",
    "\n",
    "print(\"Reversed Stack:\", stack.items)"
   ]
  },
  {
   "cell_type": "markdown",
   "id": "7eb1522c",
   "metadata": {},
   "source": [
    "# Q10. Write a program to find the smallest number using a stack?"
   ]
  },
  {
   "cell_type": "code",
   "execution_count": 42,
   "id": "4cac83b0",
   "metadata": {},
   "outputs": [
    {
     "name": "stdout",
     "output_type": "stream",
     "text": [
      "Enter the size of elements: 5\n",
      "Enter element 1: 1\n",
      "Enter element 2: 2\n",
      "Enter element 3: 3\n",
      "Enter element 4: 4\n",
      "Enter element 5: 5\n",
      "The smallest number is: 1\n"
     ]
    }
   ],
   "source": [
    "class Stack:\n",
    "    def __init__(self):\n",
    "        self.stack = []\n",
    "        self.min_stack = []\n",
    "\n",
    "    def push(self, value):\n",
    "        self.stack.append(value)\n",
    "        if not self.min_stack or value <= self.min_stack[-1]:\n",
    "            self.min_stack.append(value)\n",
    "\n",
    "    def pop(self):\n",
    "        if self.stack:\n",
    "            value = self.stack.pop()\n",
    "            if value == self.min_stack[-1]:\n",
    "                self.min_stack.pop()\n",
    "            return value\n",
    "        else:\n",
    "            return None\n",
    "\n",
    "    def get_min(self):\n",
    "        if self.min_stack:\n",
    "            return self.min_stack[-1]\n",
    "        else:\n",
    "            return None\n",
    "\n",
    "\n",
    "def find_smallest_number():\n",
    "    stack = Stack()\n",
    "\n",
    "    n = int(input(\"Enter the size of elements: \"))\n",
    "\n",
    "    for i in range(n):\n",
    "        num = int(input(f\"Enter element {i + 1}: \"))\n",
    "        stack.push(num)\n",
    "\n",
    "    smallest = stack.get_min()\n",
    "    print(f\"The smallest number is: {smallest}\")\n",
    "\n",
    "\n",
    "find_smallest_number()\n"
   ]
  },
  {
   "cell_type": "code",
   "execution_count": null,
   "id": "a1515b67",
   "metadata": {},
   "outputs": [],
   "source": []
  }
 ],
 "metadata": {
  "kernelspec": {
   "display_name": "Python 3 (ipykernel)",
   "language": "python",
   "name": "python3"
  },
  "language_info": {
   "codemirror_mode": {
    "name": "ipython",
    "version": 3
   },
   "file_extension": ".py",
   "mimetype": "text/x-python",
   "name": "python",
   "nbconvert_exporter": "python",
   "pygments_lexer": "ipython3",
   "version": "3.10.9"
  }
 },
 "nbformat": 4,
 "nbformat_minor": 5
}
