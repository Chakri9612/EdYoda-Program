{
 "cells": [
  {
   "cell_type": "markdown",
   "id": "bb48bf44",
   "metadata": {},
   "source": [
    "# 1.Write a Python function to sum all the numbers in a list.\n",
    "Sample List : (8, 2, 3, 0, 7)\n",
    "Expected Output : 20\n",
    "\n",
    "Explanation:\n",
    "Summation should like 8+2+3+0+7 = 20"
   ]
  },
  {
   "cell_type": "code",
   "execution_count": 7,
   "id": "202f8e60",
   "metadata": {},
   "outputs": [
    {
     "name": "stdout",
     "output_type": "stream",
     "text": [
      "Enter length of the list:5\n",
      "Enter element:8\n",
      "Enter element:2\n",
      "Enter element:3\n",
      "Enter element:0\n",
      "Enter element:7\n",
      "The input list is [8, 2, 3, 0, 7]\n",
      "The sum of the list is 20\n"
     ]
    }
   ],
   "source": [
    "def sum_list():  \n",
    "    # This is a function to add all the elements in a list\n",
    "    total = 0  \n",
    "    # Initiating variable total to zero\n",
    "\n",
    "    for i in input_list:  \n",
    "        # Iterating each element through the input_list\n",
    "        total += i  \n",
    "        # Adding the current element to the total\n",
    "\n",
    "    return total  \n",
    "    # Returns the total, i.e., the sum of all elements in the list\n",
    "\n",
    "input_list = []  \n",
    "# Initiating input_list as an empty list\n",
    "\n",
    "length = int(input(\"Enter length of the list:\"))  \n",
    "# Length of the list is declared here\n",
    "\n",
    "for i in range(0, length):  \n",
    "    # Loop iterates from zero to length-1\n",
    "    element = int(input(\"Enter element:\"))  \n",
    "    # Taking input from the user to input_list \n",
    "    input_list.append(element)  \n",
    "    # Appending elements to the input_list\n",
    "\n",
    "print(\"The input list is\", input_list)  \n",
    "# Printing the input list given by the user\n",
    "\n",
    "total_list = sum_list()  \n",
    "# Calling the sum_list function to get the sum of elements\n",
    "\n",
    "print(\"The sum of the list is\", total_list)  \n",
    "# Printing the sum of elements in the list"
   ]
  },
  {
   "cell_type": "markdown",
   "id": "6957e182",
   "metadata": {},
   "source": [
    "# 2. Write a Python program to reverse a string.\n",
    "Sample String : \"1234abcd\"\n",
    "Expected Output : \"dcba4321\""
   ]
  },
  {
   "cell_type": "code",
   "execution_count": 15,
   "id": "37fce642",
   "metadata": {},
   "outputs": [
    {
     "name": "stdout",
     "output_type": "stream",
     "text": [
      "Enter a string:1234abcd\n",
      "The reversed string is dcba4321\n"
     ]
    }
   ],
   "source": [
    "def reverse_string():\n",
    "    reversed_word = \"\"  \n",
    "    # Initialize reversed_word as an empty string\n",
    "\n",
    "    for i in word:  \n",
    "        # Iterate through each character in the given word\n",
    "        reversed_word = i + reversed_word  \n",
    "        # Append the current character to the beginning of reversed_word\n",
    "\n",
    "    return reversed_word  \n",
    "\n",
    "word = input(\"Enter a string:\")  \n",
    "# Take input from the user and store it in the variable word\n",
    "\n",
    "reversed_string = reverse_string()  \n",
    "# Call the reverse_string function to get the reversed version of the input string\n",
    "\n",
    "print(\"The reversed string is\", reversed_string)  \n",
    "# Print the reversed string\n"
   ]
  },
  {
   "cell_type": "markdown",
   "id": "15954cdf",
   "metadata": {},
   "source": [
    "# 3. Write a Python function that accepts a string and calculate the number of upper case letters and lower case letters.\n",
    "\n",
    "Sample String : 'The quick Brow Fox'\n",
    "\n",
    "Expected Output :\n",
    "No. of Upper case characters : 3\n",
    "No. of Lower case Characters : 12"
   ]
  },
  {
   "cell_type": "code",
   "execution_count": 12,
   "id": "8da05f82",
   "metadata": {},
   "outputs": [
    {
     "name": "stdout",
     "output_type": "stream",
     "text": [
      "Enter your string: The quick Brow Fox\n",
      "Original String:  The quick Brow Fox\n",
      "No. of Upper case characters:  3\n",
      "No. of Lower case Characters:  12\n"
     ]
    }
   ],
   "source": [
    "def count_upper_lower(s):\n",
    "    # Initialize a dictionary to store the counts of uppercase and lowercase characters\n",
    "    d = {\"UPPER_CASE\": 0, \"LOWER_CASE\": 0}\n",
    "    \n",
    "    # Iterate over each character in the string\n",
    "    for c in s:\n",
    "        if c.isupper():\n",
    "            # If the character is uppercase, increment the count in the dictionary\n",
    "            d[\"UPPER_CASE\"] += 1\n",
    "        elif c.islower():\n",
    "            # If the character is lowercase, increment the count in the dictionary\n",
    "            d[\"LOWER_CASE\"] += 1\n",
    "    \n",
    "    # Return the dictionary containing the counts\n",
    "    return d\n",
    "\n",
    "# Prompt the user to enter a string\n",
    "input_string = input(\"Enter your string: \")\n",
    "\n",
    "# Call the function to count the uppercase and lowercase characters\n",
    "result = count_upper_lower(input_string)\n",
    "\n",
    "# Print the original string and the counts of uppercase and lowercase characters\n",
    "print(\"Original String: \", input_string)\n",
    "print(\"No. of Upper case characters: \", result[\"UPPER_CASE\"])\n",
    "print(\"No. of Lower case Characters: \", result[\"LOWER_CASE\"])"
   ]
  },
  {
   "cell_type": "code",
   "execution_count": null,
   "id": "572f5139",
   "metadata": {},
   "outputs": [],
   "source": []
  }
 ],
 "metadata": {
  "kernelspec": {
   "display_name": "Python 3 (ipykernel)",
   "language": "python",
   "name": "python3"
  },
  "language_info": {
   "codemirror_mode": {
    "name": "ipython",
    "version": 3
   },
   "file_extension": ".py",
   "mimetype": "text/x-python",
   "name": "python",
   "nbconvert_exporter": "python",
   "pygments_lexer": "ipython3",
   "version": "3.10.9"
  }
 },
 "nbformat": 4,
 "nbformat_minor": 5
}
