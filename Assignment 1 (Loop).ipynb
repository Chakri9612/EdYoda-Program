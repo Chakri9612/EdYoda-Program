{
 "cells": [
  {
   "cell_type": "markdown",
   "id": "8fec9895",
   "metadata": {},
   "source": [
    "# Assignment - 1 (Loops)"
   ]
  },
  {
   "cell_type": "markdown",
   "id": "2a97083d",
   "metadata": {},
   "source": [
    "# 1. Write a Python program to get the Fibonacci series between 0 to 50 "
   ]
  },
  {
   "cell_type": "code",
   "execution_count": 14,
   "id": "8b5fa30c",
   "metadata": {},
   "outputs": [
    {
     "name": "stdout",
     "output_type": "stream",
     "text": [
      "0\n",
      "1\n",
      "1\n",
      "2\n",
      "3\n",
      "5\n",
      "8\n",
      "13\n",
      "21\n",
      "34\n"
     ]
    }
   ],
   "source": [
    "x, y = 0, 1             # Initialize x and y to 0 and 1, respectively, which are the first two numbers in the Fibonacci sequence.\n",
    "\n",
    "while x <= 50:         # Here x enters a while loop that continues until the value of x lessthan or equal 50.\n",
    "    print(x)           # Within each iteration of the loop, the code prints the value of x.\n",
    "    \n",
    "    x, y = y, x + y    # The value of y is assigned to x, and the value of x + y is assigned to y.\n",
    "    \n",
    "                       # The loop stops after printing the number 34 because the next number, 55, is greater than 50."
   ]
  },
  {
   "cell_type": "markdown",
   "id": "0d5f2927",
   "metadata": {},
   "source": [
    "# 2. Write a Python program that accepts a word from the user and reverse it."
   ]
  },
  {
   "cell_type": "code",
   "execution_count": 19,
   "id": "ae80a424",
   "metadata": {},
   "outputs": [
    {
     "name": "stdout",
     "output_type": "stream",
     "text": [
      "Enter a word: Edyoda\n",
      "Reversed word: adoydE\n"
     ]
    }
   ],
   "source": [
    "word = input(\"Enter a word: \")         # Get input from the user\n",
    "reversed_word = \"\"                     # We initialize an empty string reversed_string.\n",
    "for i in range(len(word)-1, -1, -1):   # Reverse the word using loops\n",
    "    reversed_word += word [i]          # We concatenate each character from the string to the reversed_string string.\n",
    "\n",
    "print(\"Reversed word:\", reversed_word) # Print the reversed word"
   ]
  },
  {
   "cell_type": "markdown",
   "id": "6d90bb57",
   "metadata": {},
   "source": [
    "# 3. Write a Python program to count the number of even and odd numbers from a series of numbers."
   ]
  },
  {
   "cell_type": "code",
   "execution_count": 18,
   "id": "1237ff39",
   "metadata": {},
   "outputs": [
    {
     "name": "stdout",
     "output_type": "stream",
     "text": [
      "Enter the number of elements in the series: 10\n",
      "Enter a number: 1\n",
      "Enter a number: 2\n",
      "Enter a number: 3\n",
      "Enter a number: 4\n",
      "Enter a number: 5\n",
      "Enter a number: 6\n",
      "Enter a number: 7\n",
      "Enter a number: 8\n",
      "Enter a number: 9\n",
      "Enter a number: 10\n",
      "Even numbers: 5\n",
      "Odd numbers: 5\n"
     ]
    }
   ],
   "source": [
    "even_count = 0                                                       # Variable to store the count of even numbers\n",
    "odd_count = 0                                                        # Variable to store the count of odd numbers\n",
    "\n",
    "series = []                                                          # List to store the series of numbers\n",
    "\n",
    "n = int(input(\"Enter the number of elements in the series: \"))\n",
    "for i in range(n):\n",
    "    num = int(input(\"Enter a number: \"))\n",
    "    series.append(num)                                               # Append the number to the series list\n",
    "    if num % 2 == 0:                                                 # Check if the number is even or odd\n",
    "        even_count += 1                                              # Increment even_count if the number is even\n",
    "    else:\n",
    "        odd_count += 1                                               # Increment odd_count if the number is odd\n",
    "\n",
    "print(\"Even numbers:\", even_count)                                   # Print the counts of even and odd numbers\n",
    "print(\"Odd numbers:\", odd_count)\n"
   ]
  },
  {
   "cell_type": "code",
   "execution_count": null,
   "id": "e0c22f14",
   "metadata": {},
   "outputs": [],
   "source": []
  }
 ],
 "metadata": {
  "celltoolbar": "Raw Cell Format",
  "kernelspec": {
   "display_name": "Python 3 (ipykernel)",
   "language": "python",
   "name": "python3"
  },
  "language_info": {
   "codemirror_mode": {
    "name": "ipython",
    "version": 3
   },
   "file_extension": ".py",
   "mimetype": "text/x-python",
   "name": "python",
   "nbconvert_exporter": "python",
   "pygments_lexer": "ipython3",
   "version": "3.10.9"
  }
 },
 "nbformat": 4,
 "nbformat_minor": 5
}
