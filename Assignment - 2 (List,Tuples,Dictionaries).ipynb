{
 "cells": [
  {
   "cell_type": "markdown",
   "id": "57c4e377",
   "metadata": {},
   "source": [
    "# 1. Write a Python program to get a list, sorted in increasing order by the last element in each tuple from a given list of non-empty tuples\n",
    "\n",
    "Sample List : [(2, 5), (1, 2), (4, 4), (2, 3), (2, 1)]\n",
    "Expected Result : [(2, 1), (1, 2), (2, 3), (4, 4), (2, 5)]"
   ]
  },
  {
   "cell_type": "code",
   "execution_count": 2,
   "id": "d039b70d",
   "metadata": {},
   "outputs": [
    {
     "name": "stdout",
     "output_type": "stream",
     "text": [
      "[(2, 1), (1, 2), (2, 3), (4, 4), (2, 5)]\n"
     ]
    }
   ],
   "source": [
    "def get_last_element(tuple): # The get_last_element function takes a tuple as input and returns the last element of that tuple.\n",
    "    \n",
    "    return tuple[-1]  # It uses the indexing operator [-1] to access the last element.\n",
    "\n",
    "def sort_tuples(tuples): # The sort_tuples function takes a list of tuples as input and returns a new list\n",
    "    \n",
    "    return sorted(tuples, key=get_last_element) # containing the tuples sorted in increasing order based on their last element.\n",
    "   \n",
    "    # It uses the sorted function with the key parameter set to get_last_element.\n",
    "    # The key parameter specifies a function that takes an item from the iterable in this case, a tuple \n",
    "    # and returns a value that will be used for sorting.\n",
    " \n",
    "tuples_list = [(2, 5), (1, 2), (4, 4), (2, 3), (2, 1)]  # Enter the list of tuples\n",
    "\n",
    "sorted_list = sort_tuples(tuples_list)  # Call the sort_tuples() function to sort the list of tuples\n",
    "\n",
    "print(sorted_list)  # Print the sorted list"
   ]
  },
  {
   "cell_type": "markdown",
   "id": "d6beb724",
   "metadata": {},
   "source": [
    "# 2. Write a Python program to print a dictionary whose keys should be the alphabet from a-z and the value should be corresponding ASCII values\n",
    "\n",
    "Sample Output : {'a': 97, 'b': 98, 'c': 99, 'd': 100, 'e': 101, 'f': 102, 'g': 103, 'h': 104, 'i': 105, 'j': 106, 'k': 107, 'l': 108, 'm': 109, 'n': 110, 'o': 111, 'p': 112, 'q': 113, 'r': 114, 's': 115, 't': 116, 'u': 117, 'v': 118, 'w': 119, 'x': 120, 'y': 121, 'z': 122}"
   ]
  },
  {
   "cell_type": "code",
   "execution_count": 5,
   "id": "e98edbf1",
   "metadata": {},
   "outputs": [
    {
     "name": "stdout",
     "output_type": "stream",
     "text": [
      "{'a': 97, 'b': 98, 'c': 99, 'd': 100, 'e': 101, 'f': 102, 'g': 103, 'h': 104, 'i': 105, 'j': 106, 'k': 107, 'l': 108, 'm': 109, 'n': 110, 'o': 111, 'p': 112, 'q': 113, 'r': 114, 's': 115, 't': 116, 'u': 117, 'v': 118, 'w': 119, 'x': 120, 'y': 121, 'z': 122}\n"
     ]
    }
   ],
   "source": [
    "def create_alphabet_dictionary():\n",
    "    \n",
    "    alphabet_dict = {}  # Initialize an empty dictionary\n",
    "\n",
    "    \n",
    "    for letter in range(ord('a'), ord('z') + 1):  # Iterate over the range of ASCII values for lowercase alphabets 'a' to 'z'\n",
    "        \n",
    "        character = chr(letter)  # Convert the current ASCII value to its corresponding character using chr()\n",
    "\n",
    "        \n",
    "        alphabet_dict[character] = letter  # Assign the character as the key and the ASCII value as the value in the dictionary\n",
    "\n",
    "    \n",
    "    return alphabet_dict  # Return the completed dictionary\n",
    "\n",
    "\n",
    "alphabet_dictionary = create_alphabet_dictionary()  # Call the create_alphabet_dictionary() function to generate the dictionary\n",
    "\n",
    "\n",
    "print(alphabet_dictionary)  # Print the resulting dictionary\n"
   ]
  },
  {
   "cell_type": "code",
   "execution_count": null,
   "id": "404dc5d0",
   "metadata": {},
   "outputs": [],
   "source": []
  }
 ],
 "metadata": {
  "kernelspec": {
   "display_name": "Python 3 (ipykernel)",
   "language": "python",
   "name": "python3"
  },
  "language_info": {
   "codemirror_mode": {
    "name": "ipython",
    "version": 3
   },
   "file_extension": ".py",
   "mimetype": "text/x-python",
   "name": "python",
   "nbconvert_exporter": "python",
   "pygments_lexer": "ipython3",
   "version": "3.10.9"
  }
 },
 "nbformat": 4,
 "nbformat_minor": 5
}
