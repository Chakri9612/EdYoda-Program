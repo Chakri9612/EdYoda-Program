{
 "cells": [
  {
   "cell_type": "markdown",
   "id": "734725ec",
   "metadata": {},
   "source": [
    "# 1. Write a Python program to create a lambda function that adds 25 to a given number passed in as an argument.\n",
    "\n",
    "sample input: 10\n",
    "sample output: 35"
   ]
  },
  {
   "cell_type": "code",
   "execution_count": 2,
   "id": "3700600b",
   "metadata": {},
   "outputs": [
    {
     "name": "stdout",
     "output_type": "stream",
     "text": [
      "Enter a number: 10\n",
      "Result: 35\n"
     ]
    }
   ],
   "source": [
    "add = lambda num: num + 25\n",
    "\n",
    "# Test the lambda function\n",
    "number = int(input(\"Enter a number: \"))\n",
    "result = add(number)\n",
    "print(\"Result:\", result)\n"
   ]
  },
  {
   "cell_type": "markdown",
   "id": "f958effb",
   "metadata": {},
   "source": [
    "# 2. Write a Python program to triple all numbers of a given list of integers. Use Python map.\n",
    "\n",
    "sample list: [1, 2, 3, 4, 5, 6, 7]\n",
    "Triple of list numbers:\n",
    "[3, 6, 9, 12, 15, 18, 21]"
   ]
  },
  {
   "cell_type": "code",
   "execution_count": 8,
   "id": "844a1830",
   "metadata": {},
   "outputs": [
    {
     "name": "stdout",
     "output_type": "stream",
     "text": [
      "Enter a list of numbers (space separated): 1 2 3 4 5 6 7\n",
      "Triple of list numbers:\n",
      "[3, 6, 9, 12, 15, 18, 21]\n"
     ]
    }
   ],
   "source": [
    "def triple_numbers(numbers):\n",
    "    return list(map(lambda x: x * 3, numbers))\n",
    "\n",
    "# Test the function\n",
    "user_input = input(\"Enter a list of numbers (space separated): \")\n",
    "numbers = list(map(int, user_input.split()))\n",
    "\n",
    "result = triple_numbers(numbers)\n",
    "print(\"Triple of list numbers:\")\n",
    "print(result)"
   ]
  },
  {
   "cell_type": "markdown",
   "id": "c527fb73",
   "metadata": {},
   "source": [
    "# 3. Write a Python program to square the elements of a list using map() function.\n",
    "\n",
    "Sample List: [4, 5, 2, 9]\n",
    "Square the elements of the list:\n",
    "[16, 25, 4, 81]"
   ]
  },
  {
   "cell_type": "code",
   "execution_count": 9,
   "id": "d1d0038f",
   "metadata": {},
   "outputs": [
    {
     "name": "stdout",
     "output_type": "stream",
     "text": [
      "Square the elements of the list:\n",
      "[16, 25, 4, 81]\n"
     ]
    }
   ],
   "source": [
    "def square_elements(numbers):\n",
    "    return list(map(lambda x: x ** 2, numbers))\n",
    "\n",
    "# Test the function\n",
    "sample_list = [4, 5, 2, 9]\n",
    "\n",
    "result = square_elements(sample_list)\n",
    "print(\"Square the elements of the list:\")\n",
    "print(result)"
   ]
  },
  {
   "cell_type": "code",
   "execution_count": null,
   "id": "183ac290",
   "metadata": {},
   "outputs": [],
   "source": []
  }
 ],
 "metadata": {
  "kernelspec": {
   "display_name": "Python 3 (ipykernel)",
   "language": "python",
   "name": "python3"
  },
  "language_info": {
   "codemirror_mode": {
    "name": "ipython",
    "version": 3
   },
   "file_extension": ".py",
   "mimetype": "text/x-python",
   "name": "python",
   "nbconvert_exporter": "python",
   "pygments_lexer": "ipython3",
   "version": "3.10.9"
  }
 },
 "nbformat": 4,
 "nbformat_minor": 5
}
